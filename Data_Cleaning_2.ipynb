{
  "nbformat": 4,
  "nbformat_minor": 0,
  "metadata": {
    "colab": {
      "provenance": [],
      "machine_shape": "hm",
      "authorship_tag": "ABX9TyPT84/cJ8HADf/UfNYEeRwZ",
      "include_colab_link": true
    },
    "kernelspec": {
      "name": "python3",
      "display_name": "Python 3"
    },
    "language_info": {
      "name": "python"
    },
    "accelerator": "TPU"
  },
  "cells": [
    {
      "cell_type": "markdown",
      "metadata": {
        "id": "view-in-github",
        "colab_type": "text"
      },
      "source": [
        "<a href=\"https://colab.research.google.com/github/Yogesh6662/Prediction-and-Analysis-of-Airline-Data-AWS-Hadoop-Hive-./blob/main/Data_Cleaning_2.ipynb\" target=\"_parent\"><img src=\"https://colab.research.google.com/assets/colab-badge.svg\" alt=\"Open In Colab\"/></a>"
      ]
    },
    {
      "cell_type": "code",
      "execution_count": 4,
      "metadata": {
        "id": "8UjAAaDDUyv5"
      },
      "outputs": [],
      "source": [
        "import pandas as pd\n",
        "from tabulate import tabulate"
      ]
    },
    {
      "cell_type": "code",
      "source": [
        "df=pd.read_csv('/content/180k_merged_file (1)-1.csv')"
      ],
      "metadata": {
        "colab": {
          "base_uri": "https://localhost:8080/"
        },
        "id": "xdoMWurxVH4A",
        "outputId": "0989b162-5456-454e-a56f-8aa1ade6d1e5"
      },
      "execution_count": 5,
      "outputs": [
        {
          "output_type": "stream",
          "name": "stderr",
          "text": [
            "<ipython-input-5-2a86114f804c>:1: DtypeWarning: Columns (10,18,23) have mixed types. Specify dtype option on import or set low_memory=False.\n",
            "  df=pd.read_csv('/content/180k_merged_file (1)-1.csv')\n"
          ]
        }
      ]
    },
    {
      "cell_type": "code",
      "source": [
        "first_few_rows = df.head(5)\n",
        "print(tabulate(first_few_rows, headers='keys', tablefmt='pretty'))\n",
        "df.shape\n"
      ],
      "metadata": {
        "colab": {
          "base_uri": "https://localhost:8080/"
        },
        "id": "WNWOFqolVMvT",
        "outputId": "8aa40b3a-928f-4184-ea4e-e3fd466e0623"
      },
      "execution_count": 6,
      "outputs": [
        {
          "output_type": "stream",
          "name": "stdout",
          "text": [
            "+---+------+-------+------------+-----------+---------+------------+---------+------------+---------------+-----------+---------+-------------------+----------------+---------+----------+----------+--------+------+----------+--------+---------+-----------+------------------+----------+--------------+--------------+----------+---------------+-------------------+---------+\n",
            "|   | year | month | dayofmonth | dayofweek | deptime | crsdeptime | arrtime | crsarrtime | uniquecarrier | flightnum | tailnum | actualelapsedtime | crselapsedtime | airtime | arrdelay | depdelay | origin | dest | distance | taxiin | taxiout | cancelled | cancellationcode | diverted | carrierdelay | weatherdelay | nasdelay | securitydelay | lateaircraftdelay | delayed |\n",
            "+---+------+-------+------------+-----------+---------+------------+---------+------------+---------------+-----------+---------+-------------------+----------------+---------+----------+----------+--------+------+----------+--------+---------+-----------+------------------+----------+--------------+--------------+----------+---------------+-------------------+---------+\n",
            "| 0 | 1990 |   1   |     11     |     4     | 1122.0  |    1125    | 1526.0  |    1532    |      CO       |    572    |   nan   |       184.0       |     187.0      |   nan   |   -6.0   |   -3.0   |  IAH   | PHL  |   1324   |  nan   |   nan   |    0.0    |       nan        |    0     |     nan      |     nan      |   nan    |      nan      |        nan        |    N    |\n",
            "| 1 | 1990 |   1   |     28     |     7     | 2305.0  |    2252    | 2341.0  |    2337    |      US       |   1026    |   nan   |       36.0        |      45.0      |   nan   |   4.0    |   13.0   |  DAY   | CAK  |   162    |  nan   |   nan   |    0.0    |       nan        |    0     |     nan      |     nan      |   nan    |      nan      |        nan        |    Y    |\n",
            "| 2 | 1990 |   3   |     13     |     2     | 1615.0  |    1615    | 1822.0  |    1819    |      NW       |    771    |   nan   |       187.0       |     184.0      |   nan   |   3.0    |   0.0    |  EWR   | MSP  |   1008   |  nan   |   nan   |    0.0    |       nan        |    0     |     nan      |     nan      |   nan    |      nan      |        nan        |    Y    |\n",
            "| 3 | 1990 |   1   |     3      |     3     | 1935.0  |    1930    | 2128.0  |    2132    |      DL       |    683    |   nan   |       113.0       |     122.0      |   nan   |   -4.0   |   5.0    |  LGA   | CVG  |   585    |  nan   |   nan   |    0.0    |       nan        |    0     |     nan      |     nan      |   nan    |      nan      |        nan        |    Y    |\n",
            "| 4 | 1990 |   2   |     13     |     2     | 2030.0  |    2030    | 2118.0  |    2125    |      DL       |    233    |   nan   |       48.0        |      55.0      |   nan   |   -7.0   |   0.0    |  CAE   | ATL  |   191    |  nan   |   nan   |    0.0    |       nan        |    0     |     nan      |     nan      |   nan    |      nan      |        nan        |    N    |\n",
            "+---+------+-------+------------+-----------+---------+------------+---------+------------+---------------+-----------+---------+-------------------+----------------+---------+----------+----------+--------+------+----------+--------+---------+-----------+------------------+----------+--------------+--------------+----------+---------------+-------------------+---------+\n"
          ]
        },
        {
          "output_type": "execute_result",
          "data": {
            "text/plain": [
              "(180000, 30)"
            ]
          },
          "metadata": {},
          "execution_count": 6
        }
      ]
    },
    {
      "cell_type": "code",
      "source": [
        "df.info()"
      ],
      "metadata": {
        "colab": {
          "base_uri": "https://localhost:8080/"
        },
        "id": "LqDH1KuXVO_V",
        "outputId": "ab4605df-c27f-4f7e-e7ec-44adc87b6892"
      },
      "execution_count": 7,
      "outputs": [
        {
          "output_type": "stream",
          "name": "stdout",
          "text": [
            "<class 'pandas.core.frame.DataFrame'>\n",
            "RangeIndex: 180000 entries, 0 to 179999\n",
            "Data columns (total 30 columns):\n",
            " #   Column             Non-Null Count   Dtype  \n",
            "---  ------             --------------   -----  \n",
            " 0   year               180000 non-null  int64  \n",
            " 1   month              180000 non-null  int64  \n",
            " 2   dayofmonth         180000 non-null  int64  \n",
            " 3   dayofweek          180000 non-null  int64  \n",
            " 4   deptime            178310 non-null  float64\n",
            " 5   crsdeptime         180000 non-null  int64  \n",
            " 6   arrtime            178058 non-null  float64\n",
            " 7   crsarrtime         180000 non-null  int64  \n",
            " 8   uniquecarrier      180000 non-null  object \n",
            " 9   flightnum          180000 non-null  int64  \n",
            " 10  tailnum            120610 non-null  object \n",
            " 11  actualelapsedtime  177460 non-null  float64\n",
            " 12  crselapsedtime     179967 non-null  float64\n",
            " 13  airtime            119731 non-null  float64\n",
            " 14  arrdelay           177460 non-null  float64\n",
            " 15  depdelay           178306 non-null  float64\n",
            " 16  origin             179992 non-null  object \n",
            " 17  dest               180000 non-null  object \n",
            " 18  distance           177470 non-null  object \n",
            " 19  taxiin             120593 non-null  float64\n",
            " 20  taxiout            120000 non-null  float64\n",
            " 21  cancelled          179390 non-null  float64\n",
            " 22  cancellationcode   30610 non-null   float64\n",
            " 23  diverted           179390 non-null  object \n",
            " 24  carrierdelay       30610 non-null   float64\n",
            " 25  weatherdelay       30000 non-null   float64\n",
            " 26  nasdelay           30000 non-null   float64\n",
            " 27  securitydelay      30000 non-null   float64\n",
            " 28  lateaircraftdelay  30000 non-null   float64\n",
            " 29  delayed            179391 non-null  object \n",
            "dtypes: float64(16), int64(7), object(7)\n",
            "memory usage: 41.2+ MB\n"
          ]
        }
      ]
    },
    {
      "cell_type": "code",
      "source": [
        "columns_to_drop = ['year', 'month', 'cancellationcode', 'diverted', 'carrierdelay', 'weatherdelay', 'nasdelay', 'securitydelay', 'lateaircraftdelay']\n",
        "df = df.drop(columns=columns_to_drop)\n",
        "\n"
      ],
      "metadata": {
        "id": "T6fUeEM1WE6V"
      },
      "execution_count": 8,
      "outputs": []
    },
    {
      "cell_type": "code",
      "source": [
        "df.info()"
      ],
      "metadata": {
        "colab": {
          "base_uri": "https://localhost:8080/"
        },
        "id": "2-q3KtcKZzB2",
        "outputId": "606ce8d8-aa3d-497f-a68b-d2133e44ca3e"
      },
      "execution_count": 9,
      "outputs": [
        {
          "output_type": "stream",
          "name": "stdout",
          "text": [
            "<class 'pandas.core.frame.DataFrame'>\n",
            "RangeIndex: 180000 entries, 0 to 179999\n",
            "Data columns (total 21 columns):\n",
            " #   Column             Non-Null Count   Dtype  \n",
            "---  ------             --------------   -----  \n",
            " 0   dayofmonth         180000 non-null  int64  \n",
            " 1   dayofweek          180000 non-null  int64  \n",
            " 2   deptime            178310 non-null  float64\n",
            " 3   crsdeptime         180000 non-null  int64  \n",
            " 4   arrtime            178058 non-null  float64\n",
            " 5   crsarrtime         180000 non-null  int64  \n",
            " 6   uniquecarrier      180000 non-null  object \n",
            " 7   flightnum          180000 non-null  int64  \n",
            " 8   tailnum            120610 non-null  object \n",
            " 9   actualelapsedtime  177460 non-null  float64\n",
            " 10  crselapsedtime     179967 non-null  float64\n",
            " 11  airtime            119731 non-null  float64\n",
            " 12  arrdelay           177460 non-null  float64\n",
            " 13  depdelay           178306 non-null  float64\n",
            " 14  origin             179992 non-null  object \n",
            " 15  dest               180000 non-null  object \n",
            " 16  distance           177470 non-null  object \n",
            " 17  taxiin             120593 non-null  float64\n",
            " 18  taxiout            120000 non-null  float64\n",
            " 19  cancelled          179390 non-null  float64\n",
            " 20  delayed            179391 non-null  object \n",
            "dtypes: float64(10), int64(5), object(6)\n",
            "memory usage: 28.8+ MB\n"
          ]
        }
      ]
    },
    {
      "cell_type": "code",
      "source": [
        "# prompt: code to check sum of null values\n",
        "\n",
        "df.isna().sum()\n"
      ],
      "metadata": {
        "colab": {
          "base_uri": "https://localhost:8080/"
        },
        "id": "lyHkYO_yjcia",
        "outputId": "0e587632-a9f2-460a-b1e8-c67ca61e6fe1"
      },
      "execution_count": 10,
      "outputs": [
        {
          "output_type": "execute_result",
          "data": {
            "text/plain": [
              "dayofmonth               0\n",
              "dayofweek                0\n",
              "deptime               1690\n",
              "crsdeptime               0\n",
              "arrtime               1942\n",
              "crsarrtime               0\n",
              "uniquecarrier            0\n",
              "flightnum                0\n",
              "tailnum              59390\n",
              "actualelapsedtime     2540\n",
              "crselapsedtime          33\n",
              "airtime              60269\n",
              "arrdelay              2540\n",
              "depdelay              1694\n",
              "origin                   8\n",
              "dest                     0\n",
              "distance              2530\n",
              "taxiin               59407\n",
              "taxiout              60000\n",
              "cancelled              610\n",
              "delayed                609\n",
              "dtype: int64"
            ]
          },
          "metadata": {},
          "execution_count": 10
        }
      ]
    },
    {
      "cell_type": "code",
      "source": [
        "# Convert non-numeric values to NaN\n",
        "df['distance'] = pd.to_numeric(df['distance'], errors='coerce')\n",
        "\n",
        "# Convert NaN values to 0 (or you can choose another appropriate value)\n",
        "df['distance'].fillna(0, inplace=True)\n",
        "\n",
        "# Convert the column to integers\n",
        "df['distance'] = df['distance'].astype(int)\n"
      ],
      "metadata": {
        "id": "ewMrPTQLmE9m"
      },
      "execution_count": 11,
      "outputs": []
    },
    {
      "cell_type": "code",
      "source": [
        "df['deptime'] = df['deptime'].fillna(df['deptime'].mean())\n",
        "df['arrtime'] = df['arrtime'].fillna(df['arrtime'].mean())\n",
        "df['actualelapsedtime'] = df['actualelapsedtime'].fillna(df['actualelapsedtime'].mean())\n",
        "df['arrdelay'] = df['arrdelay'].fillna(df['arrdelay'].mean())\n",
        "df['depdelay'] = df['depdelay'].fillna(df['depdelay'].mean())\n",
        "df['distance'] = df['distance'].fillna(df['distance'].mean())\n",
        "df['airtime'] = df['airtime'].fillna(df['airtime'].mean())\n",
        "df['crselapsedtime'] = df['crselapsedtime'].fillna(df['crselapsedtime'].mean())\n",
        "most_frequent_tailnum = df['tailnum'].mode()[0]\n",
        "df['tailnum'].fillna(most_frequent_tailnum, inplace=True)\n",
        "df['taxiin'] = df['taxiin'].fillna(df['taxiin'].mean())\n",
        "df['taxiout'] = df['taxiout'].fillna(df['taxiout'].mean())\n",
        "df['cancelled'] = df['cancelled'].fillna(df['cancelled'].mean())\n"
      ],
      "metadata": {
        "id": "oVvsEPBGj6jP"
      },
      "execution_count": 12,
      "outputs": []
    },
    {
      "cell_type": "code",
      "source": [
        "most_frequent = df['delayed'].mode()[0]\n",
        "df['delayed'].fillna(most_frequent, inplace=True)\n"
      ],
      "metadata": {
        "id": "KNZhNQjWnU8p"
      },
      "execution_count": 13,
      "outputs": []
    },
    {
      "cell_type": "code",
      "source": [
        "df.info()"
      ],
      "metadata": {
        "colab": {
          "base_uri": "https://localhost:8080/"
        },
        "id": "3XUkyzsRmnhW",
        "outputId": "ede9e2df-0e55-4b7e-9c7d-9bac28e25fef"
      },
      "execution_count": 14,
      "outputs": [
        {
          "output_type": "stream",
          "name": "stdout",
          "text": [
            "<class 'pandas.core.frame.DataFrame'>\n",
            "RangeIndex: 180000 entries, 0 to 179999\n",
            "Data columns (total 21 columns):\n",
            " #   Column             Non-Null Count   Dtype  \n",
            "---  ------             --------------   -----  \n",
            " 0   dayofmonth         180000 non-null  int64  \n",
            " 1   dayofweek          180000 non-null  int64  \n",
            " 2   deptime            180000 non-null  float64\n",
            " 3   crsdeptime         180000 non-null  int64  \n",
            " 4   arrtime            180000 non-null  float64\n",
            " 5   crsarrtime         180000 non-null  int64  \n",
            " 6   uniquecarrier      180000 non-null  object \n",
            " 7   flightnum          180000 non-null  int64  \n",
            " 8   tailnum            180000 non-null  object \n",
            " 9   actualelapsedtime  180000 non-null  float64\n",
            " 10  crselapsedtime     180000 non-null  float64\n",
            " 11  airtime            180000 non-null  float64\n",
            " 12  arrdelay           180000 non-null  float64\n",
            " 13  depdelay           180000 non-null  float64\n",
            " 14  origin             179992 non-null  object \n",
            " 15  dest               180000 non-null  object \n",
            " 16  distance           180000 non-null  int64  \n",
            " 17  taxiin             180000 non-null  float64\n",
            " 18  taxiout            180000 non-null  float64\n",
            " 19  cancelled          180000 non-null  float64\n",
            " 20  delayed            180000 non-null  object \n",
            "dtypes: float64(10), int64(6), object(5)\n",
            "memory usage: 28.8+ MB\n"
          ]
        }
      ]
    }
  ]
}